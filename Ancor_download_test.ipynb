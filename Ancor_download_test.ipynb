{
 "cells": [
  {
   "cell_type": "code",
   "execution_count": 3,
   "source": [
    "!pip3 install requests_html\r\n"
   ],
   "outputs": [
    {
     "output_type": "stream",
     "name": "stdout",
     "text": [
      "Requirement already satisfied: requests_html in c:\\users\\james\\appdata\\local\\programs\\python\\python39\\lib\\site-packages (0.10.0)\n",
      "Requirement already satisfied: bs4 in c:\\users\\james\\appdata\\local\\packages\\pythonsoftwarefoundation.python.3.9_qbz5n2kfra8p0\\localcache\\local-packages\\python39\\site-packages (from requests_html) (0.0.1)\n",
      "Requirement already satisfied: parse in c:\\users\\james\\appdata\\local\\programs\\python\\python39\\lib\\site-packages (from requests_html) (1.19.0)\n",
      "Requirement already satisfied: requests in c:\\users\\james\\appdata\\local\\packages\\pythonsoftwarefoundation.python.3.9_qbz5n2kfra8p0\\localcache\\local-packages\\python39\\site-packages (from requests_html) (2.25.1)\n",
      "Requirement already satisfied: w3lib in c:\\users\\james\\appdata\\local\\programs\\python\\python39\\lib\\site-packages (from requests_html) (1.22.0)\n",
      "Requirement already satisfied: pyppeteer>=0.0.14 in c:\\users\\james\\appdata\\local\\programs\\python\\python39\\lib\\site-packages (from requests_html) (0.2.6)\n",
      "Requirement already satisfied: fake-useragent in c:\\users\\james\\appdata\\local\\programs\\python\\python39\\lib\\site-packages (from requests_html) (0.1.11)\n",
      "Requirement already satisfied: pyquery in c:\\users\\james\\appdata\\local\\programs\\python\\python39\\lib\\site-packages (from requests_html) (1.4.3)\n",
      "Requirement already satisfied: websockets<10.0,>=9.1 in c:\\users\\james\\appdata\\local\\programs\\python\\python39\\lib\\site-packages (from pyppeteer>=0.0.14->requests_html) (9.1)\n",
      "Requirement already satisfied: tqdm<5.0.0,>=4.42.1 in c:\\users\\james\\appdata\\local\\packages\\pythonsoftwarefoundation.python.3.9_qbz5n2kfra8p0\\localcache\\local-packages\\python39\\site-packages (from pyppeteer>=0.0.14->requests_html) (4.62.0)\n",
      "Requirement already satisfied: urllib3<2.0.0,>=1.25.8 in c:\\users\\james\\appdata\\local\\packages\\pythonsoftwarefoundation.python.3.9_qbz5n2kfra8p0\\localcache\\local-packages\\python39\\site-packages (from pyppeteer>=0.0.14->requests_html) (1.26.5)\n",
      "Requirement already satisfied: appdirs<2.0.0,>=1.4.3 in c:\\users\\james\\appdata\\local\\programs\\python\\python39\\lib\\site-packages (from pyppeteer>=0.0.14->requests_html) (1.4.4)\n",
      "Requirement already satisfied: importlib-metadata>=1.4 in c:\\users\\james\\appdata\\local\\programs\\python\\python39\\lib\\site-packages (from pyppeteer>=0.0.14->requests_html) (4.8.1)\n",
      "Requirement already satisfied: pyee<9.0.0,>=8.1.0 in c:\\users\\james\\appdata\\local\\programs\\python\\python39\\lib\\site-packages (from pyppeteer>=0.0.14->requests_html) (8.2.2)\n",
      "Requirement already satisfied: zipp>=0.5 in c:\\users\\james\\appdata\\local\\programs\\python\\python39\\lib\\site-packages (from importlib-metadata>=1.4->pyppeteer>=0.0.14->requests_html) (3.5.0)\n",
      "Requirement already satisfied: colorama in c:\\users\\james\\appdata\\local\\packages\\pythonsoftwarefoundation.python.3.9_qbz5n2kfra8p0\\localcache\\local-packages\\python39\\site-packages (from tqdm<5.0.0,>=4.42.1->pyppeteer>=0.0.14->requests_html) (0.4.4)\n",
      "Requirement already satisfied: beautifulsoup4 in c:\\users\\james\\appdata\\local\\packages\\pythonsoftwarefoundation.python.3.9_qbz5n2kfra8p0\\localcache\\local-packages\\python39\\site-packages (from bs4->requests_html) (4.9.3)\n",
      "Requirement already satisfied: soupsieve>1.2 in c:\\users\\james\\appdata\\local\\packages\\pythonsoftwarefoundation.python.3.9_qbz5n2kfra8p0\\localcache\\local-packages\\python39\\site-packages (from beautifulsoup4->bs4->requests_html) (2.2.1)\n",
      "Requirement already satisfied: cssselect>0.7.9 in c:\\users\\james\\appdata\\local\\programs\\python\\python39\\lib\\site-packages (from pyquery->requests_html) (1.1.0)\n",
      "Requirement already satisfied: lxml>=2.1 in c:\\users\\james\\appdata\\local\\programs\\python\\python39\\lib\\site-packages (from pyquery->requests_html) (4.6.3)\n",
      "Requirement already satisfied: idna<3,>=2.5 in c:\\users\\james\\appdata\\local\\packages\\pythonsoftwarefoundation.python.3.9_qbz5n2kfra8p0\\localcache\\local-packages\\python39\\site-packages (from requests->requests_html) (2.10)\n",
      "Requirement already satisfied: chardet<5,>=3.0.2 in c:\\users\\james\\appdata\\local\\packages\\pythonsoftwarefoundation.python.3.9_qbz5n2kfra8p0\\localcache\\local-packages\\python39\\site-packages (from requests->requests_html) (4.0.0)\n",
      "Requirement already satisfied: certifi>=2017.4.17 in c:\\users\\james\\appdata\\local\\packages\\pythonsoftwarefoundation.python.3.9_qbz5n2kfra8p0\\localcache\\local-packages\\python39\\site-packages (from requests->requests_html) (2021.5.30)\n",
      "Requirement already satisfied: six>=1.4.1 in c:\\users\\james\\appdata\\local\\packages\\pythonsoftwarefoundation.python.3.9_qbz5n2kfra8p0\\localcache\\local-packages\\python39\\site-packages (from w3lib->requests_html) (1.16.0)\n"
     ]
    },
    {
     "output_type": "stream",
     "name": "stderr",
     "text": [
      "WARNING: You are using pip version 21.1.1; however, version 21.2.4 is available.\n",
      "You should consider upgrading via the 'c:\\users\\james\\appdata\\local\\programs\\python\\python39\\python.exe -m pip install --upgrade pip' command.\n"
     ]
    }
   ],
   "metadata": {}
  },
  {
   "cell_type": "code",
   "execution_count": 2,
   "source": [
    "import requests\r\n",
    "import pandas as pd\r\n",
    "from requests_html import HTML\r\n",
    "from requests_html import HTMLSession\r\n",
    "import untils"
   ],
   "outputs": [],
   "metadata": {}
  },
  {
   "cell_type": "code",
   "execution_count": null,
   "source": [],
   "outputs": [],
   "metadata": {}
  },
  {
   "cell_type": "code",
   "execution_count": 16,
   "source": [
    "def get_source(url):\r\n",
    "\r\n",
    "    try:\r\n",
    "        session = HTMLSession()\r\n",
    "        response = session.get(url)\r\n",
    "        return response\r\n",
    "\r\n",
    "    except requests.exceptions.RequestException as e:\r\n",
    "        print(e)\r\n",
    "def get_feed_to_df(url):\r\n",
    "    response = get_source(url)\r\n",
    "    \r\n",
    "    df = pd.DataFrame(columns = ['title', 'pubDate', 'guid', 'description',\"audio\"])\r\n",
    "\r\n",
    "    with response as r:\r\n",
    "        items = r.html.find(\"item\", first=False)\r\n",
    "\r\n",
    "        for item in items:        \r\n",
    "          \r\n",
    "            title = item.find('title', first=True).text\r\n",
    "            pubDate = item.find('pubDate', first=True).text\r\n",
    "            guid = item.find('guid', first=True).text\r\n",
    "            description = item.find('description', first=True).text\r\n",
    "            audio=item.find(\"enclosure\")[0].attrs[\"url\"]\r\n",
    "            row = {'title': title, 'pubDate': pubDate, 'guid': guid, 'description': description,\"audio\":audio}\r\n",
    "            df = df.append(row, ignore_index=True)\r\n",
    "    df.pubDate=pd.to_datetime(df.pubDate)\r\n",
    "    return df"
   ],
   "outputs": [],
   "metadata": {}
  },
  {
   "cell_type": "code",
   "execution_count": 17,
   "source": [
    "url=\"https://anchor.fm/s/561f4400/podcast/rss\"\r\n"
   ],
   "outputs": [],
   "metadata": {}
  },
  {
   "cell_type": "code",
   "execution_count": 29,
   "source": [
    "df=get_feed(url)\r\n",
    "row=df.iloc[0]\r\n",
    "response = requests.get(row.audio)\r\n",
    "date=str(row.pubDate.date())+\"_\"+str(row.pubDate.time()).replace(\":\",\"\")\r\n",
    "saveFilePath=os.path.join(os.getcwd(),f\"Anchor_download_{date}.mp3\")\r\n",
    "with open(saveFilePath, 'wb') as saveFile:\r\n",
    "        saveFile.write(response.content)"
   ],
   "outputs": [],
   "metadata": {}
  },
  {
   "cell_type": "code",
   "execution_count": 32,
   "source": [
    "import utils \r\n",
    "image=\"test_material/image_1.jpg\"\r\n",
    "utils.ImageAudio(image,saveFilePath,os.path.join(os.getcwd(),f\"Anchor_download_{date}.mp4\"))"
   ],
   "outputs": [
    {
     "output_type": "stream",
     "name": "stdout",
     "text": [
      "Moviepy - Building video d:\\Python_Scripts\\Podcast_Tools\\Podcast_video\\Anchor_download_2021-09-19_065425.mp4.mp4.\n",
      "MoviePy - Writing audio in Anchor_download_2021-09-19_065425.mp4TEMP_MPY_wvf_snd.mp3\n"
     ]
    },
    {
     "output_type": "stream",
     "name": "stderr",
     "text": []
    },
    {
     "output_type": "stream",
     "name": "stdout",
     "text": [
      "MoviePy - Done.\n",
      "Moviepy - Writing video d:\\Python_Scripts\\Podcast_Tools\\Podcast_video\\Anchor_download_2021-09-19_065425.mp4.mp4\n",
      "\n"
     ]
    },
    {
     "output_type": "stream",
     "name": "stderr",
     "text": []
    },
    {
     "output_type": "stream",
     "name": "stdout",
     "text": [
      "Moviepy - Done !\n",
      "Moviepy - video ready d:\\Python_Scripts\\Podcast_Tools\\Podcast_video\\Anchor_download_2021-09-19_065425.mp4.mp4\n"
     ]
    }
   ],
   "metadata": {}
  },
  {
   "cell_type": "code",
   "execution_count": 34,
   "source": [
    "response = get_source(url)\r\n",
    "with response as r:\r\n",
    "    items = r.html.find(\"item\", first=False)\r\n",
    "\r\n",
    "    for item in items:        \r\n",
    "        print(item)\r\n",
    "        title = item.find('title', first=True).text\r\n",
    "        pubDate = item.find('pubDate', first=True).text\r\n",
    "        guid = item.find('guid', first=True).text\r\n",
    "        description = item.find('description', first=True).text\r\n",
    "        audio=item.find(\"enclosure\").url\r\n",
    "\r\n",
    "        row = {'title': title, 'pubDate': pubDate, 'guid': guid, 'description': description,\"audio\":audio}\r\n",
    "        df = df.append(row, ignore_index=True)"
   ],
   "outputs": [
    {
     "output_type": "stream",
     "name": "stdout",
     "text": [
      "<Element 'item' >\n"
     ]
    },
    {
     "output_type": "error",
     "ename": "AttributeError",
     "evalue": "'list' object has no attribute 'url'",
     "traceback": [
      "\u001b[1;31m---------------------------------------------------------------------------\u001b[0m",
      "\u001b[1;31mAttributeError\u001b[0m                            Traceback (most recent call last)",
      "\u001b[1;32m<ipython-input-34-f08ce4023050>\u001b[0m in \u001b[0;36m<module>\u001b[1;34m\u001b[0m\n\u001b[0;32m      9\u001b[0m         \u001b[0mguid\u001b[0m \u001b[1;33m=\u001b[0m \u001b[0mitem\u001b[0m\u001b[1;33m.\u001b[0m\u001b[0mfind\u001b[0m\u001b[1;33m(\u001b[0m\u001b[1;34m'guid'\u001b[0m\u001b[1;33m,\u001b[0m \u001b[0mfirst\u001b[0m\u001b[1;33m=\u001b[0m\u001b[1;32mTrue\u001b[0m\u001b[1;33m)\u001b[0m\u001b[1;33m.\u001b[0m\u001b[0mtext\u001b[0m\u001b[1;33m\u001b[0m\u001b[1;33m\u001b[0m\u001b[0m\n\u001b[0;32m     10\u001b[0m         \u001b[0mdescription\u001b[0m \u001b[1;33m=\u001b[0m \u001b[0mitem\u001b[0m\u001b[1;33m.\u001b[0m\u001b[0mfind\u001b[0m\u001b[1;33m(\u001b[0m\u001b[1;34m'description'\u001b[0m\u001b[1;33m,\u001b[0m \u001b[0mfirst\u001b[0m\u001b[1;33m=\u001b[0m\u001b[1;32mTrue\u001b[0m\u001b[1;33m)\u001b[0m\u001b[1;33m.\u001b[0m\u001b[0mtext\u001b[0m\u001b[1;33m\u001b[0m\u001b[1;33m\u001b[0m\u001b[0m\n\u001b[1;32m---> 11\u001b[1;33m         \u001b[0maudio\u001b[0m\u001b[1;33m=\u001b[0m\u001b[0mitem\u001b[0m\u001b[1;33m.\u001b[0m\u001b[0mfind\u001b[0m\u001b[1;33m(\u001b[0m\u001b[1;34m\"enclosure\"\u001b[0m\u001b[1;33m)\u001b[0m\u001b[1;33m.\u001b[0m\u001b[0murl\u001b[0m\u001b[1;33m\u001b[0m\u001b[1;33m\u001b[0m\u001b[0m\n\u001b[0m\u001b[0;32m     12\u001b[0m \u001b[1;33m\u001b[0m\u001b[0m\n\u001b[0;32m     13\u001b[0m         \u001b[0mrow\u001b[0m \u001b[1;33m=\u001b[0m \u001b[1;33m{\u001b[0m\u001b[1;34m'title'\u001b[0m\u001b[1;33m:\u001b[0m \u001b[0mtitle\u001b[0m\u001b[1;33m,\u001b[0m \u001b[1;34m'pubDate'\u001b[0m\u001b[1;33m:\u001b[0m \u001b[0mpubDate\u001b[0m\u001b[1;33m,\u001b[0m \u001b[1;34m'guid'\u001b[0m\u001b[1;33m:\u001b[0m \u001b[0mguid\u001b[0m\u001b[1;33m,\u001b[0m \u001b[1;34m'description'\u001b[0m\u001b[1;33m:\u001b[0m \u001b[0mdescription\u001b[0m\u001b[1;33m,\u001b[0m\u001b[1;34m\"audio\"\u001b[0m\u001b[1;33m:\u001b[0m\u001b[0maudio\u001b[0m\u001b[1;33m}\u001b[0m\u001b[1;33m\u001b[0m\u001b[1;33m\u001b[0m\u001b[0m\n",
      "\u001b[1;31mAttributeError\u001b[0m: 'list' object has no attribute 'url'"
     ]
    }
   ],
   "metadata": {}
  },
  {
   "cell_type": "code",
   "execution_count": 39,
   "source": [
    "item.find(\"enclosure\")[0].attrs[\"url\"]"
   ],
   "outputs": [
    {
     "output_type": "execute_result",
     "data": {
      "text/plain": [
       "'https://anchor.fm/s/561f4400/podcast/play/40497211/https%3A%2F%2Fd3ctxlq1ktw2nl.cloudfront.net%2Fstaging%2F2021-8-19%2F026f7feb-8b41-9437-3bfd-d9de6dbd3cce.mp3'"
      ]
     },
     "metadata": {},
     "execution_count": 39
    }
   ],
   "metadata": {}
  },
  {
   "cell_type": "code",
   "execution_count": 42,
   "source": [
    "item.html"
   ],
   "outputs": [
    {
     "output_type": "execute_result",
     "data": {
      "text/plain": [
       "'<item>\\n\\t\\t\\t<title/>\\n\\t\\t\\t<description>What was Hokusai actully like ？ JinJapan 73\\n<p>Hokusai 北斎、The most famous Ukiyoe artist. You have definitely seen his pictures but you probably don\\'t know much about him?\\xa0</p>\\n<p>how did he live? Why did he move so much? names changes and more in today\\'s episode of JinJapan\\xa0</p>\\n<p><br/></p>\\n<p>Remember to subscribe and check out Jin Japan around the web/</p>\\n<p>🎙️Listen to my podcast: JinJapan on Spotify, Itunes and more</p>\\n<p>Spotify\\thttps://open.spotify.com/show/6XdRJlEChrUI6durbS0ATF</p>\\n<p>Itunes\\thttps://podcasts.apple.com/jp/podcast/jjjapan-podcast/id1562528180</p>\\n<p>Google podcast\\thttps://podcasts.google.com/u/1/feed/aHR0cHM6Ly9hbmNob3IuZm0vcy81NjFmNDQwMC9wb2RjYXN0L3Jzcw?hl=ja</p>\\n<p>For Japan, adventures check out my youtube Jarvis Japan Experiences\\xa0</p>\\n<p>https://www.youtube.com/channel/UCVrRrBk3xOfpx-ejuUEwxTA</p>\\n<p>Add me on Instagram: JJSAN_JAPAN</p>\\n<p>https://www.instagram.com/jjsan_japan/?hl=ja</p>\\n<p>Tweet on Twitter: JarvisSan22</p>\\n<p>https://twitter.com/JarvisSan22</p>\\n<p>Message me on Facebook:JARVISinJAPAN</p>\\n<p>https://www.facebook.com/JARVISinJAPAN</p>\\n<p><br/></p>\\n<p><br/></p>\\n]]&gt;</description>\\n\\t\\t\\t<link/>https://anchor.fm/jarvisinjapan/episodes/What-was-Hokusai-actually-like--JinJapan-73-e17icjr\\n\\t\\t\\t<guid ispermalink=\"false\">a2941a0b-c84c-4524-ab08-f67fe8cdfc41</guid>\\n\\t\\t\\t<creator/>\\n\\t\\t\\t<pubdate>Sun, 19 Sep 2021 06:54:25 GMT</pubdate>\\n\\t\\t\\t<enclosure url=\"https://anchor.fm/s/561f4400/podcast/play/40497211/https%3A%2F%2Fd3ctxlq1ktw2nl.cloudfront.net%2Fstaging%2F2021-8-19%2F026f7feb-8b41-9437-3bfd-d9de6dbd3cce.mp3\" length=\"11640627\" type=\"audio/mpeg\"/>\\n\\t\\t\\t<summary>&lt;p&gt;What was Hokusai actully like ？ JinJapan 73&lt;/p&gt;\\n&lt;p&gt;Hokusai 北斎、The most famous Ukiyoe artist. You have definitely seen his pictures but you probably don\\'t know much about him?&amp;nbsp;&lt;/p&gt;\\n&lt;p&gt;how did he live? Why did he move so much? names changes and more in today\\'s episode of JinJapan&amp;nbsp;&lt;/p&gt;\\n&lt;p&gt;&lt;br&gt;&lt;/p&gt;\\n&lt;p&gt;Remember to subscribe and check out Jin Japan around the web/&lt;/p&gt;\\n&lt;p&gt;🎙️Listen to my podcast: JinJapan on Spotify, Itunes and more&lt;/p&gt;\\n&lt;p&gt;Spotify\\thttps://open.spotify.com/show/6XdRJlEChrUI6durbS0ATF&lt;/p&gt;\\n&lt;p&gt;Itunes\\thttps://podcasts.apple.com/jp/podcast/jjjapan-podcast/id1562528180&lt;/p&gt;\\n&lt;p&gt;Google podcast\\thttps://podcasts.google.com/u/1/feed/aHR0cHM6Ly9hbmNob3IuZm0vcy81NjFmNDQwMC9wb2RjYXN0L3Jzcw?hl=ja&lt;/p&gt;\\n&lt;p&gt;For Japan, adventures check out my youtube Jarvis Japan Experiences&amp;nbsp;&lt;/p&gt;\\n&lt;p&gt;https://www.youtube.com/channel/UCVrRrBk3xOfpx-ejuUEwxTA&lt;/p&gt;\\n&lt;p&gt;Add me on Instagram: JJSAN_JAPAN&lt;/p&gt;\\n&lt;p&gt;https://www.instagram.com/jjsan_japan/?hl=ja&lt;/p&gt;\\n&lt;p&gt;Tweet on Twitter: JarvisSan22&lt;/p&gt;\\n&lt;p&gt;https://twitter.com/JarvisSan22&lt;/p&gt;\\n&lt;p&gt;Message me on Facebook:JARVISinJAPAN&lt;/p&gt;\\n&lt;p&gt;https://www.facebook.com/JARVISinJAPAN&lt;/p&gt;\\n&lt;p&gt;&lt;br&gt;&lt;/p&gt;\\n&lt;p&gt;&lt;br&gt;&lt;/p&gt;\\n</summary>\\n\\t\\t\\t<explicit>No</explicit>\\n\\t\\t\\t<duration>729</duration>\\n\\t\\t\\t<image href=\"https://d3t3ozftmdmh3i.cloudfront.net/production/podcast_uploaded_episode400/14348896/14348896-1632034294355-c8f846fb0342d.jpg\"/>\\n\\t\\t\\t<episode>73</episode>\\n\\t\\t\\t<episodetype>full</episodetype>\\n\\t\\t</item>'"
      ]
     },
     "metadata": {},
     "execution_count": 42
    }
   ],
   "metadata": {}
  },
  {
   "cell_type": "code",
   "execution_count": 46,
   "source": [],
   "outputs": [
    {
     "output_type": "execute_result",
     "data": {
      "text/plain": [
       "'https://d3t3ozftmdmh3i.cloudfront.net/production/podcast_uploaded_episode400/14348896/14348896-1632034294355-c8f846fb0342d.jpg'"
      ]
     },
     "metadata": {},
     "execution_count": 46
    }
   ],
   "metadata": {}
  },
  {
   "cell_type": "code",
   "execution_count": null,
   "source": [],
   "outputs": [],
   "metadata": {}
  }
 ],
 "metadata": {
  "orig_nbformat": 4,
  "language_info": {
   "name": "python",
   "version": "3.9.7",
   "mimetype": "text/x-python",
   "codemirror_mode": {
    "name": "ipython",
    "version": 3
   },
   "pygments_lexer": "ipython3",
   "nbconvert_exporter": "python",
   "file_extension": ".py"
  },
  "kernelspec": {
   "name": "python3",
   "display_name": "Python 3.9.7 64-bit (windows store)"
  },
  "interpreter": {
   "hash": "8fcaf298253f65fac3372020ec1d298e3b62a7dca2683f0f2f0d866fe440ee8a"
  }
 },
 "nbformat": 4,
 "nbformat_minor": 2
}